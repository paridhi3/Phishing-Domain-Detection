{
 "cells": [
  {
   "cell_type": "markdown",
   "metadata": {},
   "source": [
    "# Phishing Domain Detection\n",
    "## Testing all model with 53 features\n",
    "\n",
    "[Dataset Link](https://data.mendeley.com/datasets/72ptz43s9v/1)<br>\n",
    "[Dataset Description](https://www.sciencedirect.com/science/article/pii/S2352340920313202)"
   ]
  },
  {
   "cell_type": "code",
   "execution_count": 1,
   "metadata": {},
   "outputs": [],
   "source": [
    "# Basic Import\n",
    "import numpy as np\n",
    "import pandas as pd\n",
    "import matplotlib.pyplot as plt \n",
    "import seaborn as sns\n",
    "\n",
    "# Modelling\n",
    "from sklearn.tree import DecisionTreeClassifier\n",
    "from sklearn.ensemble import RandomForestClassifier, GradientBoostingClassifier\n",
    "from catboost import CatBoostClassifier\n",
    "from xgboost import XGBClassifier\n",
    "import warnings\n",
    "import os"
   ]
  },
  {
   "cell_type": "code",
   "execution_count": 4,
   "metadata": {},
   "outputs": [],
   "source": [
    "df = pd.read_csv(\"data/final_data.csv\")"
   ]
  },
  {
   "cell_type": "code",
   "execution_count": 5,
   "metadata": {},
   "outputs": [
    {
     "data": {
      "text/plain": [
       "phishing\n",
       "0    56706\n",
       "1    30497\n",
       "Name: count, dtype: int64"
      ]
     },
     "execution_count": 5,
     "metadata": {},
     "output_type": "execute_result"
    }
   ],
   "source": [
    "df['phishing'].value_counts()"
   ]
  },
  {
   "cell_type": "code",
   "execution_count": 6,
   "metadata": {},
   "outputs": [
    {
     "data": {
      "text/plain": [
       "(87203, 54)"
      ]
     },
     "execution_count": 6,
     "metadata": {},
     "output_type": "execute_result"
    }
   ],
   "source": [
    "df.shape"
   ]
  },
  {
   "cell_type": "code",
   "execution_count": 7,
   "metadata": {},
   "outputs": [
    {
     "data": {
      "text/html": [
       "<div>\n",
       "<style scoped>\n",
       "    .dataframe tbody tr th:only-of-type {\n",
       "        vertical-align: middle;\n",
       "    }\n",
       "\n",
       "    .dataframe tbody tr th {\n",
       "        vertical-align: top;\n",
       "    }\n",
       "\n",
       "    .dataframe thead th {\n",
       "        text-align: right;\n",
       "    }\n",
       "</style>\n",
       "<table border=\"1\" class=\"dataframe\">\n",
       "  <thead>\n",
       "    <tr style=\"text-align: right;\">\n",
       "      <th></th>\n",
       "      <th>directory_length</th>\n",
       "      <th>time_domain_activation</th>\n",
       "      <th>qty_slash_directory</th>\n",
       "      <th>qty_at_file</th>\n",
       "      <th>qty_slash_file</th>\n",
       "      <th>qty_equal_file</th>\n",
       "      <th>qty_dot_file</th>\n",
       "      <th>ttl_hostname</th>\n",
       "      <th>qty_equal_directory</th>\n",
       "      <th>qty_plus_file</th>\n",
       "      <th>...</th>\n",
       "      <th>qty_hyphen_domain</th>\n",
       "      <th>qty_and_directory</th>\n",
       "      <th>qty_questionmark_file</th>\n",
       "      <th>qty_hashtag_directory</th>\n",
       "      <th>params_length</th>\n",
       "      <th>qty_dot_params</th>\n",
       "      <th>qty_params</th>\n",
       "      <th>url_shortened</th>\n",
       "      <th>qty_equal_params</th>\n",
       "      <th>qty_space_params</th>\n",
       "    </tr>\n",
       "  </thead>\n",
       "  <tbody>\n",
       "    <tr>\n",
       "      <th>0</th>\n",
       "      <td>8</td>\n",
       "      <td>-1</td>\n",
       "      <td>1</td>\n",
       "      <td>0</td>\n",
       "      <td>0</td>\n",
       "      <td>0</td>\n",
       "      <td>1</td>\n",
       "      <td>892</td>\n",
       "      <td>0</td>\n",
       "      <td>0</td>\n",
       "      <td>...</td>\n",
       "      <td>0</td>\n",
       "      <td>0</td>\n",
       "      <td>0</td>\n",
       "      <td>0</td>\n",
       "      <td>-1</td>\n",
       "      <td>-1</td>\n",
       "      <td>-1</td>\n",
       "      <td>0</td>\n",
       "      <td>-1</td>\n",
       "      <td>-1</td>\n",
       "    </tr>\n",
       "    <tr>\n",
       "      <th>1</th>\n",
       "      <td>42</td>\n",
       "      <td>579</td>\n",
       "      <td>3</td>\n",
       "      <td>0</td>\n",
       "      <td>0</td>\n",
       "      <td>0</td>\n",
       "      <td>1</td>\n",
       "      <td>9540</td>\n",
       "      <td>0</td>\n",
       "      <td>0</td>\n",
       "      <td>...</td>\n",
       "      <td>0</td>\n",
       "      <td>0</td>\n",
       "      <td>0</td>\n",
       "      <td>0</td>\n",
       "      <td>165</td>\n",
       "      <td>0</td>\n",
       "      <td>3</td>\n",
       "      <td>0</td>\n",
       "      <td>3</td>\n",
       "      <td>0</td>\n",
       "    </tr>\n",
       "    <tr>\n",
       "      <th>2</th>\n",
       "      <td>1</td>\n",
       "      <td>-1</td>\n",
       "      <td>1</td>\n",
       "      <td>0</td>\n",
       "      <td>0</td>\n",
       "      <td>0</td>\n",
       "      <td>0</td>\n",
       "      <td>589</td>\n",
       "      <td>0</td>\n",
       "      <td>0</td>\n",
       "      <td>...</td>\n",
       "      <td>0</td>\n",
       "      <td>0</td>\n",
       "      <td>0</td>\n",
       "      <td>0</td>\n",
       "      <td>-1</td>\n",
       "      <td>-1</td>\n",
       "      <td>-1</td>\n",
       "      <td>0</td>\n",
       "      <td>-1</td>\n",
       "      <td>-1</td>\n",
       "    </tr>\n",
       "    <tr>\n",
       "      <th>3</th>\n",
       "      <td>62</td>\n",
       "      <td>-1</td>\n",
       "      <td>5</td>\n",
       "      <td>0</td>\n",
       "      <td>0</td>\n",
       "      <td>0</td>\n",
       "      <td>1</td>\n",
       "      <td>292</td>\n",
       "      <td>0</td>\n",
       "      <td>0</td>\n",
       "      <td>...</td>\n",
       "      <td>0</td>\n",
       "      <td>0</td>\n",
       "      <td>0</td>\n",
       "      <td>0</td>\n",
       "      <td>-1</td>\n",
       "      <td>-1</td>\n",
       "      <td>-1</td>\n",
       "      <td>0</td>\n",
       "      <td>-1</td>\n",
       "      <td>-1</td>\n",
       "    </tr>\n",
       "    <tr>\n",
       "      <th>4</th>\n",
       "      <td>-1</td>\n",
       "      <td>6998</td>\n",
       "      <td>-1</td>\n",
       "      <td>-1</td>\n",
       "      <td>-1</td>\n",
       "      <td>-1</td>\n",
       "      <td>-1</td>\n",
       "      <td>3597</td>\n",
       "      <td>-1</td>\n",
       "      <td>-1</td>\n",
       "      <td>...</td>\n",
       "      <td>0</td>\n",
       "      <td>-1</td>\n",
       "      <td>-1</td>\n",
       "      <td>-1</td>\n",
       "      <td>-1</td>\n",
       "      <td>-1</td>\n",
       "      <td>-1</td>\n",
       "      <td>0</td>\n",
       "      <td>-1</td>\n",
       "      <td>-1</td>\n",
       "    </tr>\n",
       "  </tbody>\n",
       "</table>\n",
       "<p>5 rows × 53 columns</p>\n",
       "</div>"
      ],
      "text/plain": [
       "   directory_length  time_domain_activation  qty_slash_directory  qty_at_file  \\\n",
       "0                 8                      -1                    1            0   \n",
       "1                42                     579                    3            0   \n",
       "2                 1                      -1                    1            0   \n",
       "3                62                      -1                    5            0   \n",
       "4                -1                    6998                   -1           -1   \n",
       "\n",
       "   qty_slash_file  qty_equal_file  qty_dot_file  ttl_hostname  \\\n",
       "0               0               0             1           892   \n",
       "1               0               0             1          9540   \n",
       "2               0               0             0           589   \n",
       "3               0               0             1           292   \n",
       "4              -1              -1            -1          3597   \n",
       "\n",
       "   qty_equal_directory  qty_plus_file  ...  qty_hyphen_domain  \\\n",
       "0                    0              0  ...                  0   \n",
       "1                    0              0  ...                  0   \n",
       "2                    0              0  ...                  0   \n",
       "3                    0              0  ...                  0   \n",
       "4                   -1             -1  ...                  0   \n",
       "\n",
       "   qty_and_directory  qty_questionmark_file  qty_hashtag_directory  \\\n",
       "0                  0                      0                      0   \n",
       "1                  0                      0                      0   \n",
       "2                  0                      0                      0   \n",
       "3                  0                      0                      0   \n",
       "4                 -1                     -1                     -1   \n",
       "\n",
       "   params_length  qty_dot_params  qty_params  url_shortened  qty_equal_params  \\\n",
       "0             -1              -1          -1              0                -1   \n",
       "1            165               0           3              0                 3   \n",
       "2             -1              -1          -1              0                -1   \n",
       "3             -1              -1          -1              0                -1   \n",
       "4             -1              -1          -1              0                -1   \n",
       "\n",
       "   qty_space_params  \n",
       "0                -1  \n",
       "1                 0  \n",
       "2                -1  \n",
       "3                -1  \n",
       "4                -1  \n",
       "\n",
       "[5 rows x 53 columns]"
      ]
     },
     "execution_count": 7,
     "metadata": {},
     "output_type": "execute_result"
    }
   ],
   "source": [
    "X = df.drop(columns=['phishing'])\n",
    "X.head()"
   ]
  },
  {
   "cell_type": "code",
   "execution_count": 8,
   "metadata": {},
   "outputs": [
    {
     "data": {
      "text/plain": [
       "Index(['directory_length', 'time_domain_activation', 'qty_slash_directory',\n",
       "       'qty_at_file', 'qty_slash_file', 'qty_equal_file', 'qty_dot_file',\n",
       "       'ttl_hostname', 'qty_equal_directory', 'qty_plus_file', 'asn_ip',\n",
       "       'time_response', 'time_domain_expiration', 'qty_underline_file',\n",
       "       'domain_length', 'qty_percent_directory', 'qty_dot_domain',\n",
       "       'qty_hyphen_file', 'file_length', 'qty_asterisk_directory',\n",
       "       'qty_exclamation_directory', 'qty_asterisk_file', 'qty_tilde_file',\n",
       "       'qty_at_directory', 'qty_vowels_domain', 'qty_plus_directory',\n",
       "       'qty_exclamation_file', 'qty_dot_directory', 'qty_mx_servers',\n",
       "       'qty_nameservers', 'qty_underline_directory', 'qty_hyphen_directory',\n",
       "       'qty_comma_directory', 'qty_space_file', 'qty_and_file',\n",
       "       'qty_dollar_directory', 'qty_questionmark_directory',\n",
       "       'qty_space_directory', 'qty_ip_resolved', 'qty_redirects',\n",
       "       'tls_ssl_certificate', 'qty_percent_file', 'domain_spf',\n",
       "       'qty_hyphen_domain', 'qty_and_directory', 'qty_questionmark_file',\n",
       "       'qty_hashtag_directory', 'params_length', 'qty_dot_params',\n",
       "       'qty_params', 'url_shortened', 'qty_equal_params', 'qty_space_params'],\n",
       "      dtype='object')"
      ]
     },
     "execution_count": 8,
     "metadata": {},
     "output_type": "execute_result"
    }
   ],
   "source": [
    "X_cols = X.columns\n",
    "X_cols"
   ]
  },
  {
   "cell_type": "code",
   "execution_count": 9,
   "metadata": {},
   "outputs": [
    {
     "data": {
      "text/plain": [
       "0        1\n",
       "1        1\n",
       "2        0\n",
       "3        1\n",
       "4        0\n",
       "        ..\n",
       "87198    0\n",
       "87199    0\n",
       "87200    1\n",
       "87201    1\n",
       "87202    0\n",
       "Name: phishing, Length: 87203, dtype: int64"
      ]
     },
     "execution_count": 9,
     "metadata": {},
     "output_type": "execute_result"
    }
   ],
   "source": [
    "y = df['phishing']\n",
    "y"
   ]
  },
  {
   "cell_type": "code",
   "execution_count": 10,
   "metadata": {},
   "outputs": [
    {
     "data": {
      "text/plain": [
       "array([1, 1, 0, ..., 1, 1, 0], dtype=int64)"
      ]
     },
     "execution_count": 10,
     "metadata": {},
     "output_type": "execute_result"
    }
   ],
   "source": [
    "y.values.ravel()"
   ]
  },
  {
   "cell_type": "code",
   "execution_count": 12,
   "metadata": {},
   "outputs": [
    {
     "data": {
      "text/plain": [
       "(87203, 53)"
      ]
     },
     "execution_count": 12,
     "metadata": {},
     "output_type": "execute_result"
    }
   ],
   "source": [
    "from sklearn.preprocessing import StandardScaler\n",
    "scaler = StandardScaler()\n",
    "X = scaler.fit_transform(X)\n",
    "X.shape"
   ]
  },
  {
   "cell_type": "code",
   "execution_count": 13,
   "metadata": {},
   "outputs": [
    {
     "data": {
      "text/plain": [
       "array([[-0.12067099, -1.12987003,  0.12201639, ..., -0.07486279,\n",
       "        -0.24617076, -0.30325457],\n",
       "       [ 1.27116209, -0.93909471,  1.02376606, ..., -0.07486279,\n",
       "         3.33910332,  3.28490121],\n",
       "       [-0.40722485, -1.12987003,  0.12201639, ..., -0.07486279,\n",
       "        -0.24617076, -0.30325457],\n",
       "       ...,\n",
       "       [ 1.51677969, -0.52300715,  1.92551573, ..., -0.07486279,\n",
       "        -0.24617076, -0.30325457],\n",
       "       [-0.40722485, -1.12987003,  0.12201639, ..., -0.07486279,\n",
       "        -0.24617076, -0.30325457],\n",
       "       [-0.48909739, -1.03086421, -0.77973328, ..., -0.07486279,\n",
       "        -0.24617076, -0.30325457]])"
      ]
     },
     "execution_count": 13,
     "metadata": {},
     "output_type": "execute_result"
    }
   ],
   "source": [
    "X"
   ]
  },
  {
   "cell_type": "code",
   "execution_count": 14,
   "metadata": {},
   "outputs": [
    {
     "data": {
      "text/plain": [
       "((69762, 53), (17441, 53), (69762,), (17441,))"
      ]
     },
     "execution_count": 14,
     "metadata": {},
     "output_type": "execute_result"
    }
   ],
   "source": [
    "# separate dataset into train and test\n",
    "from sklearn.model_selection import train_test_split\n",
    "X_train, X_test, y_train, y_test = train_test_split(X,y,test_size=0.2,random_state=42)\n",
    "X_train.shape, X_test.shape, y_train.shape, y_test.shape"
   ]
  },
  {
   "cell_type": "code",
   "execution_count": 15,
   "metadata": {},
   "outputs": [],
   "source": [
    "# import pickle\n",
    "# pickle.dump(scaler, open('scaling.pkl','wb'))"
   ]
  },
  {
   "cell_type": "code",
   "execution_count": 16,
   "metadata": {},
   "outputs": [],
   "source": [
    "from sklearn.metrics import confusion_matrix, classification_report, accuracy_score\n",
    "\n",
    "def evaluate_model(true, predicted):\n",
    "    accuracy = accuracy_score(true, predicted)\n",
    "    class_report = classification_report(predicted , true, target_names=[\"legitimate\",\"malicious\"])\n",
    "    return accuracy, class_report\n"
   ]
  },
  {
   "cell_type": "code",
   "execution_count": 17,
   "metadata": {},
   "outputs": [
    {
     "name": "stdout",
     "output_type": "stream",
     "text": [
      "Decision Tree Classifier\n",
      "--------------------\n",
      "Train Accuracy: 0.9999856655485795\n",
      "Train Classification Report:\n",
      "               precision    recall  f1-score   support\n",
      "\n",
      "  legitimate       1.00      1.00      1.00     45227\n",
      "   malicious       1.00      1.00      1.00     24535\n",
      "\n",
      "    accuracy                           1.00     69762\n",
      "   macro avg       1.00      1.00      1.00     69762\n",
      "weighted avg       1.00      1.00      1.00     69762\n",
      "\n",
      "-----------------------------------\n",
      "Test Accuracy: 0.9537297173327217\n",
      "Test Classification Report:\n",
      "               precision    recall  f1-score   support\n",
      "\n",
      "  legitimate       0.96      0.97      0.96     11469\n",
      "   malicious       0.93      0.93      0.93      5972\n",
      "\n",
      "    accuracy                           0.95     17441\n",
      "   macro avg       0.95      0.95      0.95     17441\n",
      "weighted avg       0.95      0.95      0.95     17441\n",
      "\n",
      "===================================\n",
      "\n",
      "\n",
      "Random Forest Classifier\n",
      "--------------------\n",
      "Train Accuracy: 0.999971331097159\n",
      "Train Classification Report:\n",
      "               precision    recall  f1-score   support\n",
      "\n",
      "  legitimate       1.00      1.00      1.00     45228\n",
      "   malicious       1.00      1.00      1.00     24534\n",
      "\n",
      "    accuracy                           1.00     69762\n",
      "   macro avg       1.00      1.00      1.00     69762\n",
      "weighted avg       1.00      1.00      1.00     69762\n",
      "\n",
      "-----------------------------------\n",
      "Test Accuracy: 0.9719052806605126\n",
      "Test Classification Report:\n",
      "               precision    recall  f1-score   support\n",
      "\n",
      "  legitimate       0.98      0.98      0.98     11426\n",
      "   malicious       0.96      0.95      0.96      6015\n",
      "\n",
      "    accuracy                           0.97     17441\n",
      "   macro avg       0.97      0.97      0.97     17441\n",
      "weighted avg       0.97      0.97      0.97     17441\n",
      "\n",
      "===================================\n",
      "\n",
      "\n",
      "XGBClassifier\n",
      "--------------------\n",
      "Train Accuracy: 0.9822396146899458\n",
      "Train Classification Report:\n",
      "               precision    recall  f1-score   support\n",
      "\n",
      "  legitimate       0.99      0.99      0.99     45265\n",
      "   malicious       0.97      0.98      0.97     24497\n",
      "\n",
      "    accuracy                           0.98     69762\n",
      "   macro avg       0.98      0.98      0.98     69762\n",
      "weighted avg       0.98      0.98      0.98     69762\n",
      "\n",
      "-----------------------------------\n",
      "Test Accuracy: 0.969841178831489\n",
      "Test Classification Report:\n",
      "               precision    recall  f1-score   support\n",
      "\n",
      "  legitimate       0.98      0.98      0.98     11460\n",
      "   malicious       0.96      0.95      0.96      5981\n",
      "\n",
      "    accuracy                           0.97     17441\n",
      "   macro avg       0.97      0.97      0.97     17441\n",
      "weighted avg       0.97      0.97      0.97     17441\n",
      "\n",
      "===================================\n",
      "\n",
      "\n",
      "CatBoost Classifier\n",
      "--------------------\n",
      "Train Accuracy: 0.9801467847825464\n",
      "Train Classification Report:\n",
      "               precision    recall  f1-score   support\n",
      "\n",
      "  legitimate       0.99      0.98      0.98     45303\n",
      "   malicious       0.97      0.97      0.97     24459\n",
      "\n",
      "    accuracy                           0.98     69762\n",
      "   macro avg       0.98      0.98      0.98     69762\n",
      "weighted avg       0.98      0.98      0.98     69762\n",
      "\n",
      "-----------------------------------\n",
      "Test Accuracy: 0.969841178831489\n",
      "Test Classification Report:\n",
      "               precision    recall  f1-score   support\n",
      "\n",
      "  legitimate       0.98      0.98      0.98     11490\n",
      "   malicious       0.96      0.96      0.96      5951\n",
      "\n",
      "    accuracy                           0.97     17441\n",
      "   macro avg       0.97      0.97      0.97     17441\n",
      "weighted avg       0.97      0.97      0.97     17441\n",
      "\n",
      "===================================\n",
      "\n",
      "\n",
      "Gradient Boosting Classifier\n",
      "--------------------\n",
      "Train Accuracy: 0.9546171268025573\n",
      "Train Classification Report:\n",
      "               precision    recall  f1-score   support\n",
      "\n",
      "  legitimate       0.96      0.97      0.96     44970\n",
      "   malicious       0.94      0.93      0.94     24792\n",
      "\n",
      "    accuracy                           0.95     69762\n",
      "   macro avg       0.95      0.95      0.95     69762\n",
      "weighted avg       0.95      0.95      0.95     69762\n",
      "\n",
      "-----------------------------------\n",
      "Test Accuracy: 0.9531563557135485\n",
      "Test Classification Report:\n",
      "               precision    recall  f1-score   support\n",
      "\n",
      "  legitimate       0.96      0.97      0.96     11427\n",
      "   malicious       0.94      0.93      0.93      6014\n",
      "\n",
      "    accuracy                           0.95     17441\n",
      "   macro avg       0.95      0.95      0.95     17441\n",
      "weighted avg       0.95      0.95      0.95     17441\n",
      "\n",
      "===================================\n",
      "\n",
      "\n"
     ]
    }
   ],
   "source": [
    "# Define models\n",
    "models = {\n",
    "    \"Decision Tree Classifier\": DecisionTreeClassifier(random_state=42),\n",
    "    \"Random Forest Classifier\": RandomForestClassifier(random_state=42),\n",
    "    \"XGBClassifier\": XGBClassifier(random_state=42),\n",
    "    \"CatBoost Classifier\": CatBoostClassifier(verbose=False, random_state=42),\n",
    "    \"Gradient Boosting Classifier\": GradientBoostingClassifier(random_state=42)\n",
    "}\n",
    "\n",
    "model_list = []\n",
    "train_accuracies = []\n",
    "test_accuracies = []\n",
    "\n",
    "for name, model in models.items():\n",
    "    model.fit(X_train, y_train)  # Train model\n",
    "\n",
    "    # Make predictions\n",
    "    y_train_pred = model.predict(X_train)\n",
    "    y_test_pred = model.predict(X_test)\n",
    "    \n",
    "    # Evaluate Train and Test dataset\n",
    "    model_train_accuracy, model_classification_report_train = evaluate_model(y_train, y_train_pred)\n",
    "    model_test_accuracy, model_classification_report_test = evaluate_model(y_test, y_test_pred)\n",
    "\n",
    "    print(name)\n",
    "    print('-' * 20)\n",
    "    print('Train Accuracy:', model_train_accuracy)\n",
    "    print('Train Classification Report:\\n', model_classification_report_train)\n",
    "    print('-' * 35)\n",
    "    print('Test Accuracy:', model_test_accuracy)\n",
    "    print('Test Classification Report:\\n', model_classification_report_test)\n",
    "    print('=' * 35)\n",
    "    print('\\n')\n",
    "    \n",
    "    model_list.append(name)\n",
    "    train_accuracies.append(model_train_accuracy)\n",
    "    test_accuracies.append(model_test_accuracy)"
   ]
  },
  {
   "cell_type": "code",
   "execution_count": 18,
   "metadata": {},
   "outputs": [
    {
     "data": {
      "text/html": [
       "<div>\n",
       "<style scoped>\n",
       "    .dataframe tbody tr th:only-of-type {\n",
       "        vertical-align: middle;\n",
       "    }\n",
       "\n",
       "    .dataframe tbody tr th {\n",
       "        vertical-align: top;\n",
       "    }\n",
       "\n",
       "    .dataframe thead th {\n",
       "        text-align: right;\n",
       "    }\n",
       "</style>\n",
       "<table border=\"1\" class=\"dataframe\">\n",
       "  <thead>\n",
       "    <tr style=\"text-align: right;\">\n",
       "      <th></th>\n",
       "      <th>Model Name</th>\n",
       "      <th>Test Accuracy</th>\n",
       "    </tr>\n",
       "  </thead>\n",
       "  <tbody>\n",
       "    <tr>\n",
       "      <th>1</th>\n",
       "      <td>Random Forest Classifier</td>\n",
       "      <td>0.971905</td>\n",
       "    </tr>\n",
       "    <tr>\n",
       "      <th>2</th>\n",
       "      <td>XGBClassifier</td>\n",
       "      <td>0.969841</td>\n",
       "    </tr>\n",
       "    <tr>\n",
       "      <th>3</th>\n",
       "      <td>CatBoost Classifier</td>\n",
       "      <td>0.969841</td>\n",
       "    </tr>\n",
       "    <tr>\n",
       "      <th>0</th>\n",
       "      <td>Decision Tree Classifier</td>\n",
       "      <td>0.953730</td>\n",
       "    </tr>\n",
       "    <tr>\n",
       "      <th>4</th>\n",
       "      <td>Gradient Boosting Classifier</td>\n",
       "      <td>0.953156</td>\n",
       "    </tr>\n",
       "  </tbody>\n",
       "</table>\n",
       "</div>"
      ],
      "text/plain": [
       "                     Model Name  Test Accuracy\n",
       "1      Random Forest Classifier       0.971905\n",
       "2                 XGBClassifier       0.969841\n",
       "3           CatBoost Classifier       0.969841\n",
       "0      Decision Tree Classifier       0.953730\n",
       "4  Gradient Boosting Classifier       0.953156"
      ]
     },
     "execution_count": 18,
     "metadata": {},
     "output_type": "execute_result"
    }
   ],
   "source": [
    "results_df = pd.DataFrame(list(zip(model_list, test_accuracies)), columns=['Model Name', 'Test Accuracy']).sort_values(by=[\"Test Accuracy\"],ascending=False)\n",
    "results_df"
   ]
  },
  {
   "cell_type": "code",
   "execution_count": 19,
   "metadata": {},
   "outputs": [
    {
     "name": "stdout",
     "output_type": "stream",
     "text": [
      "The best model is Random Forest Classifier with a test accuracy of 0.9719\n"
     ]
    }
   ],
   "source": [
    "import pickle\n",
    "\n",
    "best_model_name = results_df.iloc[0]['Model Name']\n",
    "best_model = models[best_model_name]\n",
    "# pickle.dump(best_model, 'best_model.pkl')\n",
    "\n",
    "print(f\"The best model is {best_model_name} with a test accuracy of {results_df.iloc[0]['Test Accuracy']:.4f}\")"
   ]
  }
 ],
 "metadata": {
  "kernelspec": {
   "display_name": "base",
   "language": "python",
   "name": "python3"
  },
  "language_info": {
   "codemirror_mode": {
    "name": "ipython",
    "version": 3
   },
   "file_extension": ".py",
   "mimetype": "text/x-python",
   "name": "python",
   "nbconvert_exporter": "python",
   "pygments_lexer": "ipython3",
   "version": "3.11.7"
  }
 },
 "nbformat": 4,
 "nbformat_minor": 2
}
